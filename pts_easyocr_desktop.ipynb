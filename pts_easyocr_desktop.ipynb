{
 "cells": [
  {
   "cell_type": "code",
   "execution_count": 4,
   "id": "4fed0955-712f-4cef-89bd-c3c559459bbc",
   "metadata": {},
   "outputs": [
    {
     "name": "stdout",
     "output_type": "stream",
     "text": [
      "Requirement already satisfied: pytesseract in c:\\users\\данекер\\appdata\\local\\programs\\python\\python312\\lib\\site-packages (0.3.10)\n",
      "Requirement already satisfied: packaging>=21.3 in c:\\users\\данекер\\appdata\\local\\programs\\python\\python312\\lib\\site-packages (from pytesseract) (23.2)\n",
      "Requirement already satisfied: Pillow>=8.0.0 in c:\\users\\данекер\\appdata\\local\\programs\\python\\python312\\lib\\site-packages (from pytesseract) (10.2.0)\n"
     ]
    }
   ],
   "source": [
    "!pip install pytesseract"
   ]
  },
  {
   "cell_type": "code",
   "execution_count": 2,
   "id": "091237a8-da01-42fc-8f20-469d5ad07af7",
   "metadata": {},
   "outputs": [],
   "source": [
    "import tkinter as tk\n",
    "from tkinter import filedialog\n",
    "from PIL import Image, ImageTk\n",
    "import os\n",
    "import cv2\n",
    "import pytesseract\n",
    "import easyocr\n",
    "import re\n",
    "import time"
   ]
  },
  {
   "cell_type": "code",
   "execution_count": 3,
   "id": "0af39064",
   "metadata": {
    "scrolled": true
   },
   "outputs": [
    {
     "name": "stdout",
     "output_type": "stream",
     "text": [
      "0.3.10\n"
     ]
    }
   ],
   "source": [
    "print(pytesseract.__version__)"
   ]
  },
  {
   "cell_type": "code",
   "execution_count": 7,
   "id": "a1fcaa6c",
   "metadata": {},
   "outputs": [
    {
     "name": "stderr",
     "output_type": "stream",
     "text": [
      "Neither CUDA nor MPS are available - defaulting to CPU. Note: This module is much faster with a GPU.\n"
     ]
    },
    {
     "name": "stdout",
     "output_type": "stream",
     "text": [
      "Video uploaded: C:/asdasd.mp4\n",
      "Detected text: 990H7404\n",
      "Detected text: ii8ss_re\n",
      "Detected text: 90HzA01\n",
      "Detected text: 990HZA01\n",
      "Detected text: M29SOHZA\n"
     ]
    },
    {
     "name": "stderr",
     "output_type": "stream",
     "text": [
      "Neither CUDA nor MPS are available - defaulting to CPU. Note: This module is much faster with a GPU.\n"
     ]
    },
    {
     "name": "stdout",
     "output_type": "stream",
     "text": [
      "All detected texts: ['990H7404', 'ii8ss_re', '90HzA01', '990HZA01', 'M29SOHZA']\n"
     ]
    },
    {
     "name": "stderr",
     "output_type": "stream",
     "text": [
      "Neither CUDA nor MPS are available - defaulting to CPU. Note: This module is much faster with a GPU.\n",
      "Neither CUDA nor MPS are available - defaulting to CPU. Note: This module is much faster with a GPU.\n",
      "Neither CUDA nor MPS are available - defaulting to CPU. Note: This module is much faster with a GPU.\n",
      "Neither CUDA nor MPS are available - defaulting to CPU. Note: This module is much faster with a GPU.\n"
     ]
    }
   ],
   "source": [
    "\n",
    "pytesseract.pytesseract.tesseract_cmd = 'C:\\\\Program Files\\\\Tesseract-OCR\\\\tesseract.exe'\n",
    "\n",
    "def display_images():\n",
    "    result_window = tk.Toplevel(root)\n",
    "    result_window.title(\"Detected Plates\")\n",
    "\n",
    "    canvas = tk.Canvas(result_window)\n",
    "    scrollbar = tk.Scrollbar(result_window, orient=\"vertical\", command=canvas.yview)\n",
    "    scrollbar.pack(side=\"right\", fill=\"y\")\n",
    "    canvas.pack(side=\"left\", fill=\"both\", expand=True)\n",
    "    canvas.configure(yscrollcommand=scrollbar.set)\n",
    "\n",
    "    frame_results = tk.Frame(canvas)\n",
    "    canvas.create_window((0, 0), window=frame_results, anchor=\"nw\")\n",
    "\n",
    "    row_counter = 0\n",
    "\n",
    "    for filename in os.listdir(\"carplates\"):\n",
    "        if filename.endswith((\".jpg\", \".png\", \".jpeg\")):\n",
    "            image_path = os.path.join(\"carplates\", filename)\n",
    "\n",
    "            img = cv2.imread(image_path)\n",
    "            gray = cv2.cvtColor(img, cv2.COLOR_BGR2GRAY)\n",
    "            blurred = cv2.GaussianBlur(gray, (5, 5), 0)\n",
    "\n",
    "            reader = easyocr.Reader(['en'])\n",
    "            result_easyocr = reader.readtext(blurred)\n",
    "\n",
    "            result_pytesseract = pytesseract.image_to_string(gray, lang='eng')\n",
    "\n",
    "            image = Image.open(image_path)\n",
    "            photo = ImageTk.PhotoImage(image)\n",
    "            label_image = tk.Label(frame_results, image=photo)\n",
    "            label_image.image = photo\n",
    "            label_image.grid(row=row_counter, column=0, padx=10, pady=10, sticky=\"nsew\")\n",
    "\n",
    "            text_frame_easyocr = tk.Frame(frame_results)\n",
    "            text_frame_easyocr.grid(row=row_counter, column=1, padx=10, pady=10, sticky=\"nsew\")\n",
    "            tk.Label(text_frame_easyocr, text=f\"Text in {filename} (EasyOCR):\", font=(\"Arial\", 12, \"bold\")).pack()\n",
    "            for detection in result_easyocr:\n",
    "                tk.Label(text_frame_easyocr, text=detection[1]).pack()\n",
    "\n",
    "            text_frame_pytesseract = tk.Frame(frame_results)\n",
    "            text_frame_pytesseract.grid(row=row_counter, column=2, padx=10, pady=10, sticky=\"nsew\")\n",
    "            tk.Label(text_frame_pytesseract, text=f\"Text in {filename} (Pytesseract):\", font=(\"Arial\", 12, \"bold\")).pack()\n",
    "            tk.Label(text_frame_pytesseract, text=result_pytesseract).pack()\n",
    "\n",
    "            row_counter += 1\n",
    "\n",
    "    canvas.update_idletasks()\n",
    "    canvas.config(scrollregion=canvas.bbox(\"all\"))\n",
    "\n",
    "\n",
    "    \n",
    "def process_video(video_path):\n",
    "    cap = cv2.VideoCapture(video_path)\n",
    "    total_frames = int(cap.get(cv2.CAP_PROP_FRAME_COUNT))\n",
    "    frame_skip = max(total_frames // 10, 1)\n",
    "\n",
    "    text_saved = [] \n",
    "\n",
    "    if not os.path.exists(\"carplates\"):\n",
    "        os.makedirs(\"carplates\")\n",
    "\n",
    "    result_window = tk.Toplevel(root)\n",
    "    result_window.title(\"Results\")\n",
    "\n",
    "    text_display = tk.Text(result_window, height=10, width=50)\n",
    "    text_display.pack()\n",
    "\n",
    "    for frame_index in range(0, total_frames, frame_skip):\n",
    "        cap.set(cv2.CAP_PROP_POS_FRAMES, frame_index)\n",
    "        ret, frame = cap.read()\n",
    "\n",
    "        if not ret:\n",
    "            break\n",
    "\n",
    "        height, width = frame.shape[:2]\n",
    "\n",
    "        gray = cv2.cvtColor(frame, cv2.COLOR_BGR2GRAY)\n",
    "        blurred = cv2.GaussianBlur(gray, (3, 3), 0)\n",
    "        canny = cv2.Canny(blurred, 120, 255, 1)\n",
    "        cnts = cv2.findContours(canny, cv2.RETR_EXTERNAL, cv2.CHAIN_APPROX_SIMPLE)\n",
    "        cnts = cnts[0] if len(cnts) == 2 else cnts[1]\n",
    "\n",
    "        for i, c in enumerate(cnts):\n",
    "            x, y, w, h = cv2.boundingRect(c)\n",
    "            if w >= 3 * h and w <= 6 * h and w <= width / 3 and w >= width / 15:\n",
    "                config = \"--psm 11 --oem 3 -c textord_tabfind_find_tables=0 textord_tabfind_only_strokewidths_below_height_fraction=0\"\n",
    "                roi = gray[y:y+h, x:x+w]\n",
    "                text = pytesseract.image_to_string(roi, lang='eng', config=config)\n",
    "\n",
    "                text = re.sub(r'\\s+', '', text)\n",
    "                text = re.sub(r'\\W', '', text)\n",
    "\n",
    "                if 7 <= len(text) <= 9:\n",
    "                    print(f\"Detected text: {text}\")\n",
    "                    text_saved.append(text) \n",
    "                    text_display.insert(tk.END, text + \"\\n\") \n",
    "\n",
    "                    cv2.rectangle(frame, (x, y), (x + w, y + h), (36, 255, 12), 2)\n",
    "                    cropped_region = frame[y:y+h, x:x+w]\n",
    "                    cv2.imwrite(f\"carplates/frame_{frame_index}_region_{i}.jpg\", cropped_region)\n",
    "\n",
    "        cv2.imwrite(f\"frame_{frame_index}.jpg\", frame)\n",
    "\n",
    "        time.sleep(0.1)\n",
    "\n",
    "    cap.release()\n",
    "\n",
    "    print(f\"All detected texts: {text_saved}\")\n",
    "\n",
    "    display_images()\n",
    "\n",
    "\n",
    "    \n",
    "def upload_picture():\n",
    "    filename = filedialog.askopenfilename(filetypes=[(\"Image files\", \"*.jpg;*.png;*.jpeg\")])\n",
    "    if filename:\n",
    "        img = cv2.imread(filename)\n",
    "        gray = cv2.cvtColor(img, cv2.COLOR_BGR2GRAY)\n",
    "        blurred = cv2.GaussianBlur(gray, (5, 5), 0)\n",
    "\n",
    "        result_window = tk.Toplevel(root)\n",
    "        result_window.title(\"Detected Plate\")\n",
    "\n",
    "        reader = easyocr.Reader(['en'])\n",
    "        result_easyocr = reader.readtext(blurred)\n",
    "\n",
    "        result_pytesseract = pytesseract.image_to_string(blurred, lang='eng')\n",
    "\n",
    "        image = Image.open(filename)\n",
    "        photo = ImageTk.PhotoImage(image)\n",
    "        label_image = tk.Label(result_window, image=photo)\n",
    "        label_image.image = photo\n",
    "        label_image.pack(padx=10, pady=10)\n",
    "\n",
    "        tk.Label(result_window, text=\"Text Detected (EasyOCR):\", font=(\"Arial\", 12, \"bold\")).pack()\n",
    "        for detection in result_easyocr:\n",
    "            tk.Label(result_window, text=detection[1]).pack()\n",
    "\n",
    "        tk.Label(result_window, text=\"Text Detected (Pytesseract):\", font=(\"Arial\", 12, \"bold\")).pack()\n",
    "        tk.Label(result_window, text=result_pytesseract).pack()\n",
    "\n",
    "\n",
    "def upload_video():\n",
    "    filename = filedialog.askopenfilename(filetypes=[(\"Video files\", \"*.mp4;*.avi;*.mkv\")])\n",
    "    if filename:\n",
    "        print(\"Video uploaded:\", filename)\n",
    "        process_video(filename)\n",
    "\n",
    "def exit_program():\n",
    "    root.destroy()\n",
    "\n",
    "root = tk.Tk()\n",
    "root.title(\"Menu\")\n",
    "\n",
    "window_width = 400\n",
    "window_height = 200\n",
    "root.geometry(f\"{window_width}x{window_height}\")\n",
    "\n",
    "button_width = 20\n",
    "button_height = 2\n",
    "picture_button = tk.Button(root, text=\"Upload Picture\", command=upload_picture, width=button_width, height=button_height)\n",
    "video_button = tk.Button(root, text=\"Upload Video\", command=upload_video, width=button_width, height=button_height)\n",
    "exit_button = tk.Button(root, text=\"Exit\", command=exit_program, width=button_width, height=button_height)\n",
    "\n",
    "pad_y = 10\n",
    "picture_button.pack(pady=pad_y)\n",
    "video_button.pack(pady=pad_y)\n",
    "exit_button.pack(pady=pad_y)\n",
    "\n",
    "root.mainloop()\n"
   ]
  },
  {
   "cell_type": "code",
   "execution_count": null,
   "id": "d91bcea6-6c96-47d0-b2cf-4449eef0108d",
   "metadata": {},
   "outputs": [],
   "source": []
  }
 ],
 "metadata": {
  "kernelspec": {
   "display_name": "Python 3 (ipykernel)",
   "language": "python",
   "name": "python3"
  },
  "language_info": {
   "codemirror_mode": {
    "name": "ipython",
    "version": 3
   },
   "file_extension": ".py",
   "mimetype": "text/x-python",
   "name": "python",
   "nbconvert_exporter": "python",
   "pygments_lexer": "ipython3",
   "version": "3.12.2"
  }
 },
 "nbformat": 4,
 "nbformat_minor": 5
}
